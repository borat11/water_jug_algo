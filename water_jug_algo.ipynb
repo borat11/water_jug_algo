{
  "nbformat": 4,
  "nbformat_minor": 0,
  "metadata": {
    "colab": {
      "provenance": [],
      "authorship_tag": "ABX9TyPxc7qNsYEizzlkegZJpsAk",
      "include_colab_link": true
    },
    "kernelspec": {
      "name": "python3",
      "display_name": "Python 3"
    },
    "language_info": {
      "name": "python"
    }
  },
  "cells": [
    {
      "cell_type": "markdown",
      "metadata": {
        "id": "view-in-github",
        "colab_type": "text"
      },
      "source": [
        "<a href=\"https://colab.research.google.com/github/borat11/water_jug_algo/blob/main/water_jug_algo.ipynb\" target=\"_parent\"><img src=\"https://colab.research.google.com/assets/colab-badge.svg\" alt=\"Open In Colab\"/></a>"
      ]
    },
    {
      "cell_type": "code",
      "execution_count": null,
      "metadata": {
        "colab": {
          "base_uri": "https://localhost:8080/"
        },
        "id": "4LiSlb19B2IR",
        "outputId": "13c071cd-1089-4a8e-f9ca-93028bb4d0d4"
      },
      "outputs": [
        {
          "output_type": "stream",
          "name": "stdout",
          "text": [
            "Target of 2 liters achieved with state: (4, 2)\n"
          ]
        }
      ],
      "source": [
        "from collections import deque\n",
        "\n",
        "def water_jug_bfs(jug1, jug2, target):\n",
        "    visited = set()\n",
        "    queue = deque([(0, 0)])\n",
        "\n",
        "    while queue:\n",
        "        current = queue.popleft()\n",
        "        a, b = current\n",
        "\n",
        "        if a == target or b == target:\n",
        "            return f\"Target of {target} liters achieved with state: {current}\"\n",
        "\n",
        "        if current in visited:\n",
        "            continue\n",
        "        visited.add(current)\n",
        "\n",
        "        next_states = [\n",
        "            (jug1, b),  # Fill Jug A\n",
        "            (a, jug2),  # Fill Jug B\n",
        "            (0, b),     # Empty Jug A\n",
        "            (a, 0),     # Empty Jug B\n",
        "            (min(jug1, a + b), max(0, a + b - jug1)),  # Pour from B to A\n",
        "            (max(0, a + b - jug2), min(jug2, a + b)),  # Pour from A to B\n",
        "        ]\n",
        "\n",
        "        for state in next_states:\n",
        "            if state not in visited:\n",
        "                queue.append(state)\n",
        "\n",
        "    return \"Target not achievable with given jug capacities.\"\n",
        "\n",
        "jug1_capacity = 4\n",
        "jug2_capacity = 3\n",
        "target_amount = 2\n",
        "\n",
        "result = water_jug_bfs(jug1_capacity, jug2_capacity, target_amount)\n",
        "print(result)\n"
      ]
    },
    {
      "cell_type": "code",
      "source": [],
      "metadata": {
        "id": "pnSC4BiPxLEw"
      },
      "execution_count": null,
      "outputs": []
    }
  ]
}